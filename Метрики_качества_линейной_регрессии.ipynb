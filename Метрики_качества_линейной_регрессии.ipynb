{
  "nbformat": 4,
  "nbformat_minor": 0,
  "metadata": {
    "kernelspec": {
      "display_name": "Python 3",
      "language": "python",
      "name": "python3"
    },
    "language_info": {
      "codemirror_mode": {
        "name": "ipython",
        "version": 3
      },
      "file_extension": ".py",
      "mimetype": "text/x-python",
      "name": "python",
      "nbconvert_exporter": "python",
      "pygments_lexer": "ipython3",
      "version": "3.6.3"
    },
    "colab": {
      "name": "Метрики качества линейной регрессии",
      "provenance": [],
      "collapsed_sections": [],
      "include_colab_link": true
    }
  },
  "cells": [
    {
      "cell_type": "markdown",
      "metadata": {
        "id": "view-in-github",
        "colab_type": "text"
      },
      "source": [
        "<a href=\"https://colab.research.google.com/github/nzhdnva/ML_Begin/blob/main/%D0%9C%D0%B5%D1%82%D1%80%D0%B8%D0%BA%D0%B8_%D0%BA%D0%B0%D1%87%D0%B5%D1%81%D1%82%D0%B2%D0%B0_%D0%BB%D0%B8%D0%BD%D0%B5%D0%B9%D0%BD%D0%BE%D0%B9_%D1%80%D0%B5%D0%B3%D1%80%D0%B5%D1%81%D1%81%D0%B8%D0%B8.ipynb\" target=\"_parent\"><img src=\"https://colab.research.google.com/assets/colab-badge.svg\" alt=\"Open In Colab\"/></a>"
      ]
    },
    {
      "cell_type": "markdown",
      "metadata": {
        "id": "ELaGn3oA5w8w"
      },
      "source": [
        "# Метрики качества линейной регрессии\n",
        "\n",
        "В задачах машинного обучения мы хотим сравнивать несколько моделей машинного обучения и выбирать наилучшую из них. Решение о том, какая модель хорошая, а какая плохая, принимается на основе одной или нескольких *метрик* моделей машинного обучения.\n",
        "\n",
        "Без метрик обучение моделей вообще теряет всякий смысл – как же определить, какая из зоопарка обученных моделек хорошая, а какая плохая? Давайте разберёмся, как определить лучшую модель с помощью математики"
      ]
    },
    {
      "cell_type": "markdown",
      "metadata": {
        "id": "GI9pCuX35w8z"
      },
      "source": [
        "Давайте вернёмся к картинке из первого урока. От каждой красной точки до синей линии отложены отрезки, которые представляют собой ошибку регрессии – как сильно модель ошибается на каждой из точек.\n",
        "\n",
        "![least_squares_learning](https://248006.selcdn.ru/public/Data-science-4/img/least_line.png)\n",
        "\n",
        "Интуиция за метриками стоит очень простая – давайте как-нибудь усредним отклонения по всем точкам и получим одно число – метрику качества линейной регрессии, т.е. насколько модель отклоняется от реальных данных."
      ]
    },
    {
      "cell_type": "markdown",
      "metadata": {
        "id": "5_oq_7xJ5w8z"
      },
      "source": [
        "Метрики принимают на вход два вектора, предсказания модели и истинные значения, после чего вычисляют по этим векторам качество модели.\n",
        "\n",
        "Сначала загрузим данные эксперимента, датасет с ценами на дома в Бостоне"
      ]
    },
    {
      "cell_type": "code",
      "metadata": {
        "id": "1Rq-UhkE5w80"
      },
      "source": [
        "from sklearn.datasets import load_boston\n",
        "from sklearn.linear_model import LinearRegression\n",
        "\n",
        "boston_dataset = load_boston()\n",
        "\n",
        "features = boston_dataset.data\n",
        "y = boston_dataset.target\n",
        "\n",
        "reg = LinearRegression().fit(features, y)"
      ],
      "execution_count": null,
      "outputs": []
    },
    {
      "cell_type": "markdown",
      "metadata": {
        "id": "LAA_WyhV5w80"
      },
      "source": [
        "Теперь получим два вектора – предказанное значение $\\hat{y}$ и  истинное значение $y$:"
      ]
    },
    {
      "cell_type": "code",
      "metadata": {
        "id": "mLjKZU3R5w81"
      },
      "source": [
        "y_pred = reg.predict(features) # предсказанное значение\n",
        "y_true = y # истинное значение"
      ],
      "execution_count": null,
      "outputs": []
    },
    {
      "cell_type": "markdown",
      "metadata": {
        "id": "KK1mo2lm5w81"
      },
      "source": [
        "Теперь посмотрим, какие функции можно применять к этим двум наборам точек"
      ]
    },
    {
      "cell_type": "markdown",
      "metadata": {
        "id": "trtSdxq05w82"
      },
      "source": [
        "## Mean absolute error\n",
        "\n",
        "Для оценки качества регрессии можно использовать среднюю абсолютную ошибку"
      ]
    },
    {
      "cell_type": "code",
      "metadata": {
        "id": "19rmOED_5w83",
        "outputId": "fe5b3ce1-c2c0-40f1-b8ad-9ab3d5703f21"
      },
      "source": [
        "from sklearn.metrics import mean_absolute_error\n",
        "\n",
        "print(\"MAE = %s\" % mean_absolute_error(\n",
        "    reg.predict(features), y)\n",
        ")"
      ],
      "execution_count": null,
      "outputs": [
        {
          "output_type": "stream",
          "text": [
            "MAE = 3.270862810900316\n"
          ],
          "name": "stdout"
        }
      ]
    },
    {
      "cell_type": "markdown",
      "metadata": {
        "id": "SoXamA245w84"
      },
      "source": [
        "*Mean Absolute Error* - это просто сумма отклонений истинных значений $y$ от предсказаний нашей модели:\n",
        "\n",
        "$$\n",
        "\\text{absolute error} = |y_1 - \\hat{y}_1| + |y_2 - \\hat{y}_2| + \\ldots\n",
        "$$\n",
        "\n",
        "А потом мы эту сумму делим на количество точек - получаем среднюю ошибку\n",
        "\n",
        "Метрика принимает только положительные значения! Чем ближе к нулю, тем лучше модель."
      ]
    },
    {
      "cell_type": "markdown",
      "metadata": {
        "id": "yFfyxWeN5w84"
      },
      "source": [
        "## MSE\n",
        "\n",
        "Mean Squared Error (MSE) - это базовая метрика для определения качества линейной регрессии\n",
        "\n",
        "Для каждого предсказанного значения $\\hat{y}_i$ мы считаем квадрат отклонения от фактического значения и считаем среднее по полученным величинам"
      ]
    },
    {
      "cell_type": "code",
      "metadata": {
        "id": "GWqYgfJI5w84",
        "outputId": "9a192e84-70da-4102-ec18-914939895888"
      },
      "source": [
        "from sklearn.metrics import mean_squared_error\n",
        "\n",
        "mse = mean_squared_error(y_true, y_pred)\n",
        "\n",
        "print('MSE = %s' % mse)"
      ],
      "execution_count": null,
      "outputs": [
        {
          "output_type": "stream",
          "text": [
            "RMSE = 4.679191295697282\n"
          ],
          "name": "stdout"
        }
      ]
    },
    {
      "cell_type": "markdown",
      "metadata": {
        "id": "FsBjH3Zp5w85"
      },
      "source": [
        "В целом логика та же, что в *MAE*, только усреднять мы будем квадраты ошибок \n",
        "$$\n",
        "\\text{absolute error} = (y_1 - \\hat{y}_1)^2 + (y_2 - \\hat{y}_2)^2 + \\ldots\n",
        "$$\n",
        "\n",
        "Эта метрика тоже принимает только положительные значения! Чем ближе к нулю, тем лучше модель."
      ]
    },
    {
      "cell_type": "markdown",
      "metadata": {
        "id": "kWH9NpPF5w85"
      },
      "source": [
        "Эта ошибка визуально похожа на  *MSE*, но на графике видно, что *MAE*(красная линия) почти всегда меньше по значению, чем MSE (синяя линия). Это значит, что *MSE* более \"пессимистична\" и сильнее штрафует за большие ошибки - т.е. MSE лучше применять, когда вы уверены что в выборке нет \"выборосов\" (англ. outliers) - значений, который очень сильно отличаются от остальных точек. В этом случае MSE может быть очень плохой, а на деле ситуация приемлема. Если выбросы есть, лучше применять MAE.\n",
        "\n",
        "![rmse_vs_mae](https://248006.selcdn.ru/public/Data-science-4/img/rmse_vs_mae.png)"
      ]
    },
    {
      "cell_type": "markdown",
      "metadata": {
        "id": "kgewuvB65w85"
      },
      "source": [
        "## $R^2$ (коэффициент детерминации)\n",
        "\n",
        "Название - калька английского термина *coefficient of determination*. Наилучшее возможное значение 1.0, чем меньше тем хуже. Если этот коэффициент близок к 1, то условная дисперсия модели (то есть разброс предсказаний модели $\\hat{y}$ относительно разброса самой целевой переменной $y$ ) достаточно мала - то есть модель неплохо описывает данные. Коэффициент может быть даже отрицательным - то это значит, что модель совсем уж плохая.\n",
        "\n",
        "Эта метрика хороша тем, что она *нормализована*, то есть не превышает единицу - удобно сравнивать разные модели. Например, метрика $MSE$ может принимать ничем не ограниченные значения больше нуля - это не всегда удобно."
      ]
    },
    {
      "cell_type": "markdown",
      "metadata": {
        "id": "gpHN6j5A5w86"
      },
      "source": [
        "В библиотеке *sklearn* есть готовая реализация этой метрики."
      ]
    },
    {
      "cell_type": "code",
      "metadata": {
        "id": "DEf0kdvj5w86",
        "outputId": "f7368108-9335-4af1-eefc-6e0cc25420f9"
      },
      "source": [
        "from sklearn.metrics import r2_score\n",
        "\n",
        "print(\"r2_score = %s\" % r2_score(y_true, y_pred))"
      ],
      "execution_count": null,
      "outputs": [
        {
          "output_type": "stream",
          "text": [
            "r2_score = 0.7406426641094094\n"
          ],
          "name": "stdout"
        }
      ]
    },
    {
      "cell_type": "markdown",
      "metadata": {
        "id": "Iity752K5w86"
      },
      "source": [
        "Про другие ошибки можно почитать в [официальной документации](https://scikit-learn.org/stable/modules/model_evaluation.html#regression-metrics) в разделе про метрики регрессии."
      ]
    }
  ]
}