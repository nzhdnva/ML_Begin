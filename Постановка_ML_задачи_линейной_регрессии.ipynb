{
  "nbformat": 4,
  "nbformat_minor": 0,
  "metadata": {
    "kernelspec": {
      "display_name": "Python 3",
      "language": "python",
      "name": "python3"
    },
    "language_info": {
      "codemirror_mode": {
        "name": "ipython",
        "version": 3
      },
      "file_extension": ".py",
      "mimetype": "text/x-python",
      "name": "python",
      "nbconvert_exporter": "python",
      "pygments_lexer": "ipython3",
      "version": "3.6.3"
    },
    "colab": {
      "name": "Постановка ML задачи линейной регрессии",
      "provenance": [],
      "collapsed_sections": []
    }
  },
  "cells": [
    {
      "cell_type": "markdown",
      "metadata": {
        "id": "W0cmxj9nzqL0"
      },
      "source": [
        "В этом модуле мы узнаем,  как обучить простейшую модель машинного обучения - линейную регрессию. Разберёмся, как отобразить интуитивное представление на язык программирования.\n",
        "Мы поговорим о том, как измерить качество обученной модели, а так же научимся правильно подготавливать фичи модели, чтобы добиваться более высокого качества решения.\n",
        "В конце урока вы сможете решать интересные задачи: например, прогнозировать цену дома по его площади, используя язык программирования **Python**."
      ]
    },
    {
      "cell_type": "markdown",
      "metadata": {
        "id": "RFN7CuyrzqL1"
      },
      "source": [
        "# Постановка ML задачи линейной регрессии\n",
        "\n",
        "Впервые термин *регрессия* в статистике был использован английским исследователем Френсисом Гальтоном (1886) в  исследовании довольно простого вопроса: как связаны рост отца и рост сына? Было обнаружено, что в целом сыновья высоких отцов, оказались более высокими, чем сыновья отцов с низким ростом. Более интересным было то, что разброс в росте сыновей (по оси $Y$) был меньшим, чем разброс в росте отцов (по оси $X$), как видно на картинке:\n",
        "![halton_lin_reg](https://248006.selcdn.ru/public/Data-science-4/img/halton_lin_reg.png)\n",
        "Так проявлялась тенденция возвращения роста сыновей к среднему (regression to mediocrity), то есть «регресс». Когда говорим про регрессию в машинном обучении, то понимаем под этим модель, которая делает прогнозы с помощью \"усреднения\" входных данных. Подробнее о том, как именно проходит усреденения, мы поговорим в этом уроке."
      ]
    },
    {
      "cell_type": "markdown",
      "metadata": {
        "id": "vr8B58HuzqL2"
      },
      "source": [
        "Зачем же нам может понадобиться получать значение одной величины (целевой переменной) по значению других величин (фичей)? Рассмотрим на примере риэлторского агентства. У нас есть информация про дома\n",
        "\n",
        "* площадь\n",
        "* количество комнат жилых\n",
        "* наличие гардеробной\n",
        "* ...\n",
        "* цена дома\n",
        "\n",
        "К нам приходит клиент и хочет выставить свой дом на продажу за сумму $x=88$ млн. Наша задача – подсказать, насколько желаемая цена адекватна и соответствует дому, который предлагается. Мы хотим построить математическую модель, которая на вход принимает разные характеристики дома (например, площадь), а на выходе возвращает предсказанную цену. Такая модель должна \"понимать\", с какой силой  площадь (и все остальные параметры) влияют на цену дома."
      ]
    },
    {
      "cell_type": "markdown",
      "metadata": {
        "id": "Cm2N0UgMzqL2"
      },
      "source": [
        "Идея этого алгоритма очень проста – давайте для примера возьмём простой случай, когда у нас одна переменная – площадь дома (в машинном обучении эту переменную называют \"фича\"), обозначим её за $x$ и один целевой признак – цена дома, обозначим её за $y$. Как нам построить очень простую модель, которая предсказывает значение цены по значению площади?"
      ]
    },
    {
      "cell_type": "markdown",
      "metadata": {
        "id": "gswDd16pzqL2"
      },
      "source": [
        "Наши данные для анализа представлены в виде облака точек (на картинке простой пример, где \"облако\" – это всего 4 точки), мы хотим провести среди точек прямую линию, то есть представить наши данные в виде линейной зависимости $\\hat{y} = a\\cdot x + b$. Допустим для задачи \"Предскажи стоимость дома по площади\":\n",
        "\n",
        "* $y$ - цена дома, которая нам известна\n",
        "* $x$ - площадь дома\n",
        "* $a$ - коэффициент, на который умножаем площадь\n",
        "* $b$ - коэффициент, который называется \"свободным членом\"\n"
      ]
    },
    {
      "cell_type": "markdown",
      "metadata": {
        "id": "BoHCFPZOzqL2"
      },
      "source": [
        "Интуитивно понятно, что линия должна быть максимально возможно близка к каждой точке (оранжевая линия, например, лежит далеко от крайних точек а синяя линия более компромиссная – она стремится пройти как можно ближе к каждой точке.\n",
        "\n",
        "![least_squares_learning](https://248006.selcdn.ru/public/Data-science-4/img/least_line.png)\n",
        "\n",
        "Величина $\\hat{y}$ называется *прогнозом* линейной регрессии. Чтобы получить прогноз, мы умножаем коэффициент $a$ на значение признака $x$ и добавляем свободный член $b$. Давайте получим уравнение этой \"синей линии\" по шагам."
      ]
    },
    {
      "cell_type": "markdown",
      "metadata": {
        "id": "dCU3lSCZzqL2"
      },
      "source": [
        "**Шаг 1** Как же нам определить по входным данным идеальные коэффициенты $a$ и $b$? Давайте немного уйдём от школьных обозначений $a$ и $b$ к обозначениям $w_1$ и $w_0$, тогда формула приобретает следующий вид:\n",
        "$$\n",
        "y = w_1x + w_0\\cdot1 = w_1x_1 + w_0x_0\n",
        "$$\n",
        "\n",
        "Что мы сделали? Ничего сложного. Кроме значения фичи $x_1$ ввели специальную фичу $x_0$, которая всегда равна единице. "
      ]
    },
    {
      "cell_type": "markdown",
      "metadata": {
        "id": "zuBlzNHWzqL3"
      },
      "source": [
        "**Шаг 2** Теперь сделаем следущий шажок. У нас есть уравнение для одной точки, а на а картинке выше у нас четыре точки – то есть вместо одного уравнения мы можем написать четыре уравнения (верхний индекс – это номер точки в нашем датасете, от одного до 4):\n",
        "\n",
        "$$\n",
        "\\left\\{\n",
        "\\begin{array}{l}\n",
        "y^1 = w_1x^1_1 + w_0x^1_0 \\\\\n",
        "y^2 = w_1x^2_1 + w_0x^2_0 \\\\\n",
        "y^3 = w_1x^3_1 + w_0x^3_0 \\\\\n",
        "y^4 = w_1x^4_1 + w_0x^4_0 \\\\\n",
        "\\end{array}\n",
        "\\right.\n",
        "$$\n",
        "\n",
        "Заметьте, что координаты точек меняются, а вот коэффициенты $w_1, w_0$ присутствуют в каждом уравнении. Суть линейной регрессии как раз в том, чтобы определить наилучшие коэффициенты $w_1, w_0$ такие, чтобы все четыре уравнения решились (хотя бы приближенно). "
      ]
    },
    {
      "cell_type": "markdown",
      "metadata": {
        "id": "tFxWAddgzqL3"
      },
      "source": [
        "**Шаг 3** Перейдём в векторным обозначениям\n",
        "$$\n",
        "\\left.\n",
        "\\begin{array}{l}\n",
        "(w_1, w_0) = \\overline{w} \\\\\n",
        "(x_1, x_0) = \\overline{x} \\\\\n",
        "\\end{array}\n",
        "\\right.\n",
        "$$\n",
        "\n",
        "Тогда для каждой точки нашего датасета сумму можно переписать в виде произведения двух векторов\n",
        "$$\n",
        "y^1 = \\overline{x}^1\\cdot\\overline{w} \\\\\n",
        "y^2 = \\overline{x}^2\\cdot\\overline{w} \\\\\n",
        "y^3 = \\overline{x}^3\\cdot\\overline{w} \\\\\n",
        "y^4 = \\overline{x}^4\\cdot\\overline{w} \\\\\n",
        "$$"
      ]
    },
    {
      "cell_type": "markdown",
      "metadata": {
        "id": "pD76WCRUzqL3"
      },
      "source": [
        "**Шаг 4** Мы переписали каждую сумму в виде умножения векторов. А теперь для для удобства записи мы перейдем к матричному умножению (подробнее посмотрите на  [википедии](https://ru.wikipedia.org/wiki/Умножение_матриц)):\n",
        "\n",
        "$$\n",
        "Y = X\\cdot\\overline{w}\n",
        "$$\n",
        "\n",
        "Двумерный массив (в машинном обучении он называется *матрица*) $X$ содержит 4 строки (по числу обучающих объектов) и 2 столбца (по числу фичей) и называется матрицей объекты-признаки."
      ]
    },
    {
      "cell_type": "markdown",
      "metadata": {
        "id": "pe0uP-MczqL3"
      },
      "source": [
        "Очень круто! Мы по шагам свернули большую формулу из чётырех строчек в одну строку как же нам это поможет? Оказывается, чтобы решить нашу систему из пяти уравнений, математики вывели формулу, которая в векторно-матричном виде выглядит так:\n",
        "\n",
        "$$\n",
        "\\overline{w} = \\left(X^TX\\right)^{-1}X^TY\n",
        "$$\n",
        "\n",
        "Выглядит немного сложно! Но на самом деле совсем не сложно, давайте разберёмся на конкретном примере."
      ]
    },
    {
      "cell_type": "markdown",
      "metadata": {
        "id": "9xRWBtmozqL4"
      },
      "source": [
        "**Пример** Пусть у нас есть набок точек. Наш набор точек – это данные по виллам в Калифорнии, где $x$ – это площадь дома (наша единственная фича), а $y$ – цена дома (наша целевая переменная).\n",
        "\n",
        "$$\n",
        "\\left\\{\n",
        "\\begin{array}{ll}\n",
        "x_1=50, & y_1 = 10 \\\\\n",
        "x_2=60, & y_2 = 30 \\\\\n",
        "x_3=70, & y_3 = 40 \\\\\n",
        "x_4=100, & y_4 = 50 \\\\\n",
        "\\end{array}\n",
        "\\right.\n",
        "$$"
      ]
    },
    {
      "cell_type": "markdown",
      "metadata": {
        "id": "mOXUrxNWzqL4"
      },
      "source": [
        "Визуализируем наши точки:"
      ]
    },
    {
      "cell_type": "code",
      "metadata": {
        "id": "ZngsmtcezqL4",
        "outputId": "9f08c3c8-201d-46c7-9f04-a4de9aa551e1"
      },
      "source": [
        "from matplotlib import pyplot as plt\n",
        "\n",
        "%matplotlib inline\n",
        "\n",
        "plt.scatter([50, 60, 70, 100], [10, 30, 40, 50], 40, 'g', 'o', alpha=0.8)\n",
        "plt.show()"
      ],
      "execution_count": null,
      "outputs": [
        {
          "output_type": "display_data",
          "data": {
            "image/png": "[encoded data removed]",
            "text/plain": [
              "<Figure size 432x288 with 1 Axes>"
            ]
          },
          "metadata": {
            "tags": [],
            "needs_background": "light"
          }
        }
      ]
    },
    {
      "cell_type": "markdown",
      "metadata": {
        "id": "KRWwXk2QzqL5"
      },
      "source": [
        "Давайте выпишем матрицу $X$:"
      ]
    },
    {
      "cell_type": "code",
      "metadata": {
        "id": "NGwgZA93zqL5",
        "outputId": "5cc8d306-73b7-468a-d41a-0b817c5b842b"
      },
      "source": [
        "import numpy as np\n",
        "\n",
        "X = np.array([[1, 50],[1, 60],[1, 70],[1, 100]])\n",
        "\n",
        "X"
      ],
      "execution_count": null,
      "outputs": [
        {
          "output_type": "execute_result",
          "data": {
            "text/plain": [
              "array([[  1,  50],\n",
              "       [  1,  60],\n",
              "       [  1,  70],\n",
              "       [  1, 100]])"
            ]
          },
          "metadata": {
            "tags": []
          },
          "execution_count": 2
        }
      ]
    },
    {
      "cell_type": "markdown",
      "metadata": {
        "id": "bn4vCDQQzqL5"
      },
      "source": [
        "Теперь вектор $Y$:"
      ]
    },
    {
      "cell_type": "code",
      "metadata": {
        "id": "O68ikXN5zqL5",
        "outputId": "1383b15c-ecc0-4da1-aca8-aaa7ca4854af"
      },
      "source": [
        "Y = np.array([[10],[30],[40],[50]])\n",
        "\n",
        "Y"
      ],
      "execution_count": null,
      "outputs": [
        {
          "output_type": "execute_result",
          "data": {
            "text/plain": [
              "array([[10],\n",
              "       [30],\n",
              "       [40],\n",
              "       [50]])"
            ]
          },
          "metadata": {
            "tags": []
          },
          "execution_count": 3
        }
      ]
    },
    {
      "cell_type": "markdown",
      "metadata": {
        "id": "A3bBNiROzqL5"
      },
      "source": [
        "Выписываем формулу по кусочкам. Сначала перемножим матрицу *объекты-признаки* саму на себя\n",
        "$$\n",
        "X^T\\cdot X\n",
        "$$"
      ]
    },
    {
      "cell_type": "code",
      "metadata": {
        "id": "-VGiHEAWzqL5",
        "outputId": "cc1b25ab-6079-49c3-bac0-e0d3fb12c71a"
      },
      "source": [
        "X_T_X = (X.T).dot(X)\n",
        "\n",
        "X_T_X"
      ],
      "execution_count": null,
      "outputs": [
        {
          "output_type": "execute_result",
          "data": {
            "text/plain": [
              "array([[    4,   280],\n",
              "       [  280, 21000]])"
            ]
          },
          "metadata": {
            "tags": []
          },
          "execution_count": 4
        }
      ]
    },
    {
      "cell_type": "markdown",
      "metadata": {
        "id": "4QFi-XubzqL5"
      },
      "source": [
        "Теперь найдём обратную матрицу к ней. Тут вручную прогграммировать ничего не надо - для нахождения обратной матрицы уже есть готовая реализация\n",
        "$$\n",
        "\\left(X^TX\\right)^{-1}\n",
        "$$"
      ]
    },
    {
      "cell_type": "code",
      "metadata": {
        "id": "htOtvBtPzqL6",
        "outputId": "13325eee-bc22-4ad7-b14d-fe7556f58ae2"
      },
      "source": [
        "from numpy.linalg import inv\n",
        "\n",
        "X_T_X_inverted = inv(X_T_X)\n",
        "\n",
        "X_T_X_inverted"
      ],
      "execution_count": null,
      "outputs": [
        {
          "output_type": "execute_result",
          "data": {
            "text/plain": [
              "array([[ 3.75000000e+00, -5.00000000e-02],\n",
              "       [-5.00000000e-02,  7.14285714e-04]])"
            ]
          },
          "metadata": {
            "tags": []
          },
          "execution_count": 5
        }
      ]
    },
    {
      "cell_type": "markdown",
      "metadata": {
        "id": "XGz0Ea7OzqL6"
      },
      "source": [
        "Ну, осталось дописать формулу до конца\n",
        "$$\n",
        "\\left(X^TX\\right)^{-1}X^TY\n",
        "$$"
      ]
    },
    {
      "cell_type": "code",
      "metadata": {
        "id": "LtKdMc0ozqL6",
        "outputId": "8442fe4a-b4c1-4773-d0f6-1b0ec9234858"
      },
      "source": [
        "w = X_T_X_inverted.dot(X.T).dot(Y)\n",
        "\n",
        "print(\"w_1=%.5f, w_2=%.3f\" % (w[0][0],w[1][0]))"
      ],
      "execution_count": null,
      "outputs": [
        {
          "output_type": "stream",
          "text": [
            "w_1=-17.50000, w_2=0.714\n"
          ],
          "name": "stdout"
        }
      ]
    },
    {
      "cell_type": "markdown",
      "metadata": {
        "id": "KJcMzlqhzqL6"
      },
      "source": [
        "То есть наш набор из пяти точек прекрасно описывает прямая линия с уравнением $y = -17.5 + 0.714\\cdot x$. Давайте проверим это графически."
      ]
    },
    {
      "cell_type": "code",
      "metadata": {
        "id": "pLcMNHkZzqL6"
      },
      "source": [
        "from matplotlib import pyplot as plt\n",
        "import numpy as np\n",
        "\n",
        "%matplotlib inline\n",
        "\n",
        "# задаём границы координатных осей\n",
        "margin = 10\n",
        "X_min = 20\n",
        "X_max = X[:,1].max()+margin\n",
        "\n",
        "# набор точек, чтобы нарисовать прямую\n",
        "X_support = np.linspace(X_min, X_max, num=100)\n",
        "# предсказания нашей модели\n",
        "Y_model = w[0][0] + w[1][0]*X_support"
      ],
      "execution_count": null,
      "outputs": []
    },
    {
      "cell_type": "markdown",
      "metadata": {
        "id": "fiqERSnSzqL6"
      },
      "source": [
        "Исходные данные подготовлены! Осталось нарисовать график"
      ]
    },
    {
      "cell_type": "code",
      "metadata": {
        "id": "CcHNs6wNzqL6",
        "outputId": "406f6a15-5060-45ef-c86b-c31b63a5adc7"
      },
      "source": [
        "# настройка графика \n",
        "plt.xlim(X_min, X_max)\n",
        "plt.ylim(0, Y[:,0].max() + margin)\n",
        "# рисуем исходные точки\n",
        "plt.scatter(X[:,1], Y[:,0], 40, 'g', 'o', alpha=0.8)\n",
        "# предсказания модели\n",
        "plt.plot(X_support, Y_model)\n",
        "\n",
        "plt.show()"
      ],
      "execution_count": null,
      "outputs": [
        {
          "output_type": "display_data",
          "data": {
            "image/png": "[encoded data removed]",
            "text/plain": [
              "<Figure size 432x288 with 1 Axes>"
            ]
          },
          "metadata": {
            "tags": [],
            "needs_background": "light"
          }
        }
      ]
    },
    {
      "cell_type": "markdown",
      "metadata": {
        "id": "Py_yE_tZzqL6"
      },
      "source": [
        "Готово! Получилось очень круто – на входе у нас только несколько точек и математическая формула. Подставляем наши точки в формулу – ничего себе, теперь мы можем предсказывать цену дома по его площади."
      ]
    },
    {
      "cell_type": "markdown",
      "metadata": {
        "id": "gTWAj64fzqL6"
      },
      "source": [
        "Обучение модели линейной регрессии сводится (в двумерном случае) к вычислению коэффициентов $a$ и $b$ таким образом, чтобы линия регрессии лежала ровно в центре нашего облака точек (пример – зависимость объёмов продаже мороженного от температуры воздуха):\n",
        "\n",
        "![least_squares_learning](https://248006.selcdn.ru/public/Data-science-4/img/least_squares_learning.png)"
      ]
    },
    {
      "cell_type": "code",
      "metadata": {
        "id": "EJBGa37azqL7"
      },
      "source": [
        ""
      ],
      "execution_count": null,
      "outputs": []
    }
  ]
}